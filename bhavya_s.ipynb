{
  "nbformat": 4,
  "nbformat_minor": 0,
  "metadata": {
    "colab": {
      "name": "bhavya s.ipynb",
      "provenance": [],
      "authorship_tag": "ABX9TyP2mspwyfcjqNpYXUOW1ixY",
      "include_colab_link": true
    },
    "kernelspec": {
      "name": "python3",
      "display_name": "Python 3"
    },
    "language_info": {
      "name": "python"
    }
  },
  "cells": [
    {
      "cell_type": "markdown",
      "metadata": {
        "id": "view-in-github",
        "colab_type": "text"
      },
      "source": [
        "<a href=\"https://colab.research.google.com/github/bhavyashivalingegowda/bhavya_day1_assignment/blob/main/bhavya_s.ipynb\" target=\"_parent\"><img src=\"https://colab.research.google.com/assets/colab-badge.svg\" alt=\"Open In Colab\"/></a>"
      ]
    },
    {
      "cell_type": "code",
      "metadata": {
        "colab": {
          "base_uri": "https://localhost:8080/"
        },
        "id": "0sdJgIEwE5p7",
        "outputId": "f7c2168a-fcde-4322-ac27-5febdb39df5a"
      },
      "source": [
        "a=[int(i) for i in input('enter values:').split()]\n",
        "print('the given input is:')\n",
        "print(*a)\n",
        "print('the sorted list in descending order is:')\n",
        "a.sort(reverse=True)\n",
        "print(*a)\n"
      ],
      "execution_count": null,
      "outputs": [
        {
          "output_type": "stream",
          "text": [
            "enter values:12 1 4 33 6 76 23\n",
            "the given input is:\n",
            "12 1 4 33 6 76 23\n",
            "the sorted list in descending order is:\n",
            "76 33 23 12 6 4 1\n"
          ],
          "name": "stdout"
        }
      ]
    }
  ]
}